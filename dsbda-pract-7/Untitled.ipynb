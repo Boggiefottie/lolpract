{
 "cells": [
  {
   "cell_type": "code",
   "execution_count": 1,
   "id": "0355185c-9aac-4885-9996-ff4ebfe36860",
   "metadata": {},
   "outputs": [],
   "source": [
    "sentence1 = \"I will walk 500 miles and I would walk 500 more. Just to be the man who walks \" + \\\n",
    "            \"a thousand miles to fall down at your door!\"\n",
    "sentence2 = \"I played the play playfully as the players were playing in the play with playfullness\""
   ]
  },
  {
   "cell_type": "code",
   "execution_count": 8,
   "id": "2fb0c417-f00d-4bc6-8aa5-ec3381387450",
   "metadata": {},
   "outputs": [
    {
     "name": "stdout",
     "output_type": "stream",
     "text": [
      "showing info https://raw.githubusercontent.com/nltk/nltk_data/gh-pages/index.xml\n"
     ]
    },
    {
     "data": {
      "text/plain": [
       "True"
      ]
     },
     "execution_count": 8,
     "metadata": {},
     "output_type": "execute_result"
    }
   ],
   "source": [
    "import nltk\n",
    "nltk.download()\n"
   ]
  },
  {
   "cell_type": "code",
   "execution_count": 2,
   "id": "b5f454f5-7d13-49c8-9596-486930f22862",
   "metadata": {},
   "outputs": [],
   "source": [
    "from nltk import word_tokenize, sent_tokenize"
   ]
  },
  {
   "cell_type": "code",
   "execution_count": 3,
   "id": "cc6ec56a-4f1e-4e0b-a038-402a4821e283",
   "metadata": {},
   "outputs": [
    {
     "name": "stdout",
     "output_type": "stream",
     "text": [
      "---------Tokenized Words------------\n",
      "Tokenized words: ['I', 'will', 'walk', '500', 'miles', 'and', 'I', 'would', 'walk', '500', 'more', '.', 'Just', 'to', 'be', 'the', 'man', 'who', 'walks', 'a', 'thousand', 'miles', 'to', 'fall', 'down', 'at', 'your', 'door', '!']\n",
      "\n",
      "\n"
     ]
    }
   ],
   "source": [
    "print(\"---------Tokenized Words------------\")\n",
    "print('Tokenized words:', word_tokenize(sentence1))\n",
    "print(\"\\n\")"
   ]
  },
  {
   "cell_type": "code",
   "execution_count": 13,
   "id": "229b1a1a-533c-4d3d-91f8-f1b14c04b91f",
   "metadata": {},
   "outputs": [
    {
     "name": "stdout",
     "output_type": "stream",
     "text": [
      "---------Tokenized Sentences------------\n",
      "Tokenized sentences: ['I will walk 500 miles and I would walk 500 more.', 'Just to be the man who walks a thousand miles to fall down at your door!']\n",
      "\n",
      "\n"
     ]
    }
   ],
   "source": [
    "print(\"---------Tokenized Sentences------------\")\n",
    "print('Tokenized sentences:', sent_tokenize(sentence1))\n",
    "print(\"\\n\")"
   ]
  },
  {
   "cell_type": "code",
   "execution_count": 4,
   "id": "91b10c47-748c-4f12-b90e-b4a22e06101e",
   "metadata": {},
   "outputs": [
    {
     "name": "stdout",
     "output_type": "stream",
     "text": [
      "---------POS Tagging------------\n",
      "POS tagged: [('I', 'PRP'), ('will', 'MD'), ('walk', 'VB'), ('500', 'CD'), ('miles', 'NNS'), ('and', 'CC'), ('I', 'PRP'), ('would', 'MD'), ('walk', 'VB'), ('500', 'CD'), ('more', 'JJR'), ('.', '.'), ('Just', 'NNP'), ('to', 'TO'), ('be', 'VB'), ('the', 'DT'), ('man', 'NN'), ('who', 'WP'), ('walks', 'VBZ'), ('a', 'DT'), ('thousand', 'NN'), ('miles', 'NNS'), ('to', 'TO'), ('fall', 'VB'), ('down', 'RP'), ('at', 'IN'), ('your', 'PRP$'), ('door', 'NN'), ('!', '.'), ('I', 'PRP'), ('played', 'VBD'), ('the', 'DT'), ('play', 'NN'), ('playfully', 'RB'), ('as', 'IN'), ('the', 'DT'), ('players', 'NNS'), ('were', 'VBD'), ('playing', 'VBG'), ('in', 'IN'), ('the', 'DT'), ('play', 'NN'), ('with', 'IN'), ('playfullness', 'NN')]\n",
      "\n",
      "\n"
     ]
    }
   ],
   "source": [
    "from nltk import pos_tag\n",
    "print(\"---------POS Tagging------------\")\n",
    "token = word_tokenize(sentence1) + word_tokenize(sentence2)\n",
    "print('POS tagged:', pos_tag(token))\n",
    "print(\"\\n\")"
   ]
  },
  {
   "cell_type": "code",
   "execution_count": 6,
   "id": "f8efcd67-6d49-4446-a081-82c198f75d05",
   "metadata": {},
   "outputs": [
    {
     "name": "stdout",
     "output_type": "stream",
     "text": [
      "---------Stop-Words Removal------------\n",
      "Unclean version: ['I', 'will', 'walk', '500', 'miles', 'and', 'I', 'would', 'walk', '500', 'more', '.', 'Just', 'to', 'be', 'the', 'man', 'who', 'walks', 'a', 'thousand', 'miles', 'to', 'fall', 'down', 'at', 'your', 'door', '!']\n",
      "\n",
      "\n",
      "Cleaned version: ['I', 'walk', '500', 'miles', 'I', 'would', 'walk', '500', '.', 'Just', 'man', 'walks', 'thousand', 'miles', 'fall', 'door', '!']\n",
      "\n",
      "\n"
     ]
    }
   ],
   "source": [
    "print(\"---------Stop-Words Removal------------\")\n",
    "from nltk.corpus import stopwords\n",
    "stop_words = set(stopwords.words('english'))\n",
    "token = word_tokenize(sentence1)\n",
    "cleaned_token = []\n",
    "for word in token:\n",
    "    if word not in stop_words:\n",
    "        cleaned_token.append(word)\n",
    "print(\"Unclean version:\", token)\n",
    "print(\"\\n\")\n",
    "print(\"Cleaned version:\", cleaned_token)\n",
    "print(\"\\n\")"
   ]
  },
  {
   "cell_type": "code",
   "execution_count": 7,
   "id": "27fc378d-0b4e-4020-b755-71d652a38757",
   "metadata": {},
   "outputs": [
    {
     "name": "stdout",
     "output_type": "stream",
     "text": [
      "---------Stemming------------\n",
      "Stemmed words: ['i', 'play', 'the', 'play', 'play', 'as', 'the', 'player', 'were', 'play', 'in', 'the', 'play', 'with', 'playful']\n",
      "\n",
      "\n"
     ]
    }
   ],
   "source": [
    "print(\"---------Stemming------------\")\n",
    "from nltk.stem import PorterStemmer\n",
    "stemmer = PorterStemmer()\n",
    "token = word_tokenize(sentence2)\n",
    "stemmed = [stemmer.stem(word) for word in token]  \n",
    "print(\"Stemmed words:\", stemmed)\n",
    "print(\"\\n\")"
   ]
  },
  {
   "cell_type": "code",
   "execution_count": 8,
   "id": "1f7d1c1a-ad3e-49e8-adf4-f73f3d3883a6",
   "metadata": {},
   "outputs": [
    {
     "name": "stdout",
     "output_type": "stream",
     "text": [
      "---------Lemmatization------------\n",
      "Lemmatized words: ['I', 'played', 'the', 'play', 'playfully', 'a', 'the', 'player', 'were', 'playing', 'in', 'the', 'play', 'with', 'playfullness']\n",
      "\n",
      "\n"
     ]
    }
   ],
   "source": [
    "print(\"---------Lemmatization------------\")\n",
    "from nltk.stem import WordNetLemmatizer\n",
    "lemmatizer = WordNetLemmatizer()\n",
    "token = word_tokenize(sentence2)\n",
    "lemmatized = [lemmatizer.lemmatize(word) for word in token]\n",
    "print(\"Lemmatized words:\", lemmatized)\n",
    "print(\"\\n\")"
   ]
  },
  {
   "cell_type": "code",
   "execution_count": null,
   "id": "2e0394b9-e53c-4687-92ed-dc6af96ee5cd",
   "metadata": {},
   "outputs": [],
   "source": []
  }
 ],
 "metadata": {
  "kernelspec": {
   "display_name": "Python 3 (ipykernel)",
   "language": "python",
   "name": "python3"
  },
  "language_info": {
   "codemirror_mode": {
    "name": "ipython",
    "version": 3
   },
   "file_extension": ".py",
   "mimetype": "text/x-python",
   "name": "python",
   "nbconvert_exporter": "python",
   "pygments_lexer": "ipython3",
   "version": "3.11.7"
  }
 },
 "nbformat": 4,
 "nbformat_minor": 5
}
